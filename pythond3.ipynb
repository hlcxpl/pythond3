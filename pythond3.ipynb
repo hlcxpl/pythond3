{
 "cells": [
  {
   "cell_type": "code",
   "execution_count": 6,
   "metadata": {},
   "outputs": [
    {
     "name": "stdout",
     "output_type": "stream",
     "text": [
      "Quinto elemento: kiwi\n"
     ]
    }
   ],
   "source": [
    "# Definir la lista y lista1\n",
    "lista = [\n",
    "    \"manzana\",\n",
    "    \"pera\",\n",
    "    \"naranja\",\n",
    "    \"plátano\",\n",
    "    \"kiwi\",\n",
    "    \"uva\",\n",
    "    \"piña\",\n",
    "    \"mango\",\n",
    "    \"sandía\",\n",
    "    \"melón\",\n",
    "]\n",
    "lista1 = [\n",
    "    \"uno\",\n",
    "    \"dos\",\n",
    "    \"tres\",\n",
    "    \"cuatro\",\n",
    "    \"cinco\",\n",
    "    \"seis\",\n",
    "    \"siete\",\n",
    "    \"ocho\",\n",
    "    \"nueve\",\n",
    "    \"diez\",\n",
    "]\n",
    "\n",
    "# a. Imprimir el quinto elemento de la lista\n",
    "print(\"Quinto elemento:\", lista[4])"
   ]
  },
  {
   "cell_type": "code",
   "execution_count": 2,
   "metadata": {},
   "outputs": [
    {
     "name": "stdout",
     "output_type": "stream",
     "text": [
      "Del cuarto al sexto: ['plátano', 'kiwi', 'uva']\n"
     ]
    }
   ],
   "source": [
    "# b. Imprimir del cuarto al sexto inclusive\n",
    "print(\"Del cuarto al sexto:\", lista[3:6])"
   ]
  },
  {
   "cell_type": "code",
   "execution_count": 8,
   "metadata": {},
   "outputs": [
    {
     "data": {
      "text/plain": [
       "['manzana', 'pera', 'kiwi', 'uva', 'piña', 'mango', 'sandía', 'melón']"
      ]
     },
     "execution_count": 8,
     "metadata": {},
     "output_type": "execute_result"
    }
   ],
   "source": [
    "# c. Eliminar el elemento en la posición 3\n",
    "del lista[2]\n",
    "lista"
   ]
  },
  {
   "cell_type": "code",
   "execution_count": 10,
   "metadata": {},
   "outputs": [
    {
     "data": {
      "text/plain": [
       "['manzana',\n",
       " 'pera',\n",
       " 'kiwi',\n",
       " 'uva',\n",
       " 'piña',\n",
       " 'mango',\n",
       " 'sandía',\n",
       " 'melón',\n",
       " 'coco',\n",
       " 'fresa',\n",
       " 'coco',\n",
       " 'fresa']"
      ]
     },
     "execution_count": 10,
     "metadata": {},
     "output_type": "execute_result"
    }
   ],
   "source": [
    "# d. Agregar dos nuevos elementos a la lista\n",
    "lista.append(\"coco\")\n",
    "lista.append(\"fresa\")\n",
    "lista"
   ]
  },
  {
   "cell_type": "code",
   "execution_count": 12,
   "metadata": {},
   "outputs": [
    {
     "data": {
      "text/plain": [
       "['coco',\n",
       " 'coco',\n",
       " 'fresa',\n",
       " 'fresa',\n",
       " 'kiwi',\n",
       " 'mango',\n",
       " 'manzana',\n",
       " 'melón',\n",
       " 'pera',\n",
       " 'piña',\n",
       " 'sandía',\n",
       " 'uva']"
      ]
     },
     "execution_count": 12,
     "metadata": {},
     "output_type": "execute_result"
    }
   ],
   "source": [
    "# e. Ordenar la lista alfabéticamente\n",
    "lista.sort()\n",
    "lista"
   ]
  },
  {
   "cell_type": "code",
   "execution_count": 14,
   "metadata": {},
   "outputs": [
    {
     "data": {
      "text/plain": [
       "{'uno': 'coco',\n",
       " 'dos': 'coco',\n",
       " 'tres': 'fresa',\n",
       " 'cuatro': 'fresa',\n",
       " 'cinco': 'kiwi',\n",
       " 'seis': 'mango',\n",
       " 'siete': 'manzana',\n",
       " 'ocho': 'melón',\n",
       " 'nueve': 'pera',\n",
       " 'diez': 'piña'}"
      ]
     },
     "execution_count": 14,
     "metadata": {},
     "output_type": "execute_result"
    }
   ],
   "source": [
    "# f. Generar un diccionario usando lista1 como llaves y lista como valores\n",
    "diccionario = dict(zip(lista1, lista))\n",
    "diccionario\n"
   ]
  },
  {
   "cell_type": "code",
   "execution_count": 15,
   "metadata": {},
   "outputs": [
    {
     "name": "stdout",
     "output_type": "stream",
     "text": [
      "Lista actualizada: ['coco', 'coco', 'fresa', 'fresa', 'kiwi', 'mango', 'manzana', 'melón', 'pera', 'piña', 'sandía', 'uva']\n",
      "Diccionario: {'uno': 'coco', 'dos': 'coco', 'tres': 'fresa', 'cuatro': 'fresa', 'cinco': 'kiwi', 'seis': 'mango', 'siete': 'manzana', 'ocho': 'melón', 'nueve': 'pera', 'diez': 'piña'}\n"
     ]
    }
   ],
   "source": [
    "# Imprimir resultados\n",
    "print(\"Lista actualizada:\", lista)\n",
    "print(\"Diccionario:\", diccionario)"
   ]
  },
  {
   "cell_type": "code",
   "execution_count": 24,
   "metadata": {},
   "outputs": [
    {
     "data": {
      "text/plain": [
       "array([5.06, 4.29, 4.84, 4.93, 5.09, 4.95, 4.89, 5.1 , 4.17, 4.46, 5.07,\n",
       "       5.19, 4.82, 5.07, 4.54, 4.99, 5.06, 4.92, 4.61, 5.14, 5.31, 4.74,\n",
       "       5.34, 4.78, 4.9 , 5.27, 5.4 , 5.4 , 5.21, 5.04, 4.73, 5.49, 4.98,\n",
       "       4.96, 4.92, 5.16, 4.91, 5.4 , 4.93, 5.03, 5.1 , 5.1 , 4.82, 4.82,\n",
       "       4.94, 5.09, 4.69, 5.14, 5.18, 5.17, 4.98, 5.79, 4.55, 4.57, 5.47,\n",
       "       5.07, 5.4 , 4.87, 4.98, 4.86, 5.02, 5.11, 5.33, 5.19, 4.99, 4.84,\n",
       "       5.16, 5.22, 5.03, 4.85, 5.  , 4.86, 5.05, 5.04, 5.17, 4.48, 5.01,\n",
       "       5.31, 4.86, 5.27, 5.12, 5.31, 4.62, 4.65, 4.95, 4.86, 4.37, 5.11,\n",
       "       4.73, 5.38, 5.25, 4.86, 5.14, 5.48, 5.7 , 4.62, 5.28, 5.13, 5.23,\n",
       "       4.93, 5.44, 4.44, 5.08, 5.  , 4.45, 4.62, 4.88, 5.02, 5.38, 4.88,\n",
       "       4.9 , 5.22, 5.52, 4.71, 5.04, 5.37, 4.73, 5.14, 4.28, 4.69, 4.96,\n",
       "       5.19, 4.71, 5.68, 4.39, 5.16, 4.53, 5.26, 4.82, 5.05, 4.7 , 4.61,\n",
       "       5.04, 4.4 , 5.12, 4.77, 5.39, 5.57, 4.34, 5.04, 4.86, 4.88, 5.44,\n",
       "       4.92, 5.18, 5.13, 5.42, 4.66, 4.78, 5.03, 4.88, 5.22, 5.36, 4.54,\n",
       "       4.9 , 4.67, 4.97, 4.95, 5.38, 5.21, 5.08, 4.91, 4.79, 4.96, 4.93,\n",
       "       5.05, 4.89, 5.07, 4.84, 5.19, 5.21, 4.83, 5.27, 5.08, 5.11, 4.93,\n",
       "       5.31, 4.5 , 5.18, 4.93, 4.92, 5.02, 4.66, 5.21, 5.19, 5.1 , 4.87,\n",
       "       5.09, 4.87, 4.86, 4.54, 5.  , 4.81, 5.16, 5.26, 4.8 , 4.62, 5.26,\n",
       "       5.24, 5.4 , 4.62, 4.91, 5.4 , 4.88, 4.83, 4.36, 5.02, 5.08, 4.45,\n",
       "       5.03, 4.25, 4.77, 5.32, 5.2 , 4.86, 4.11, 4.71, 4.82, 5.16, 4.53,\n",
       "       4.93, 4.8 , 5.21, 5.07, 5.25, 4.91, 5.5 , 4.91, 4.76, 4.84, 5.32,\n",
       "       5.  , 5.4 , 4.58, 5.3 , 4.92, 5.06, 4.91, 5.09, 5.17, 5.13, 4.42,\n",
       "       5.18, 4.4 , 4.86, 5.36, 4.55, 4.88, 4.34, 4.92, 5.19, 4.33, 4.96,\n",
       "       4.36, 5.62, 4.59, 5.  , 5.19, 5.55, 4.99, 5.62, 5.29, 5.09, 4.91,\n",
       "       4.8 , 5.05, 5.39, 4.64, 5.11, 4.53, 4.69, 4.71, 4.96, 4.81, 5.12,\n",
       "       4.83, 5.45, 5.43, 4.66, 4.43, 5.38, 4.75, 5.15, 5.5 , 5.2 , 5.57,\n",
       "       4.84, 5.01, 5.39, 4.76, 5.11, 5.28, 5.16, 5.01, 4.45, 5.17, 4.96,\n",
       "       4.63, 4.86, 5.47, 4.88, 4.65, 5.15, 5.07, 4.61, 5.37, 4.99, 5.16,\n",
       "       5.11, 4.73, 5.29, 4.81, 5.12, 4.98, 5.61, 4.25, 4.85, 4.62, 4.83,\n",
       "       4.9 , 4.47, 5.15, 5.15, 4.86, 5.5 , 5.17, 4.93, 5.17, 4.68, 5.19,\n",
       "       5.61, 5.5 , 4.98, 5.3 , 5.15, 5.34, 4.74, 4.5 , 4.65, 5.24, 4.54,\n",
       "       4.96, 5.4 , 5.25, 5.37, 5.32, 4.91, 3.87, 4.7 , 4.68, 4.35, 5.05,\n",
       "       5.26, 4.43, 4.33, 4.82, 5.45, 5.07, 4.76, 4.82, 4.76, 5.45, 4.96,\n",
       "       4.97, 4.93, 5.55, 5.06, 4.83, 5.16, 4.98, 4.98, 5.13, 4.83, 5.16,\n",
       "       4.85, 4.79, 5.38, 5.15, 5.28, 5.22, 5.29, 5.15, 4.65, 4.95, 5.33,\n",
       "       5.08, 4.82, 5.03, 5.17, 5.08, 5.33, 4.68, 4.74, 5.14, 4.93, 5.45,\n",
       "       4.98, 4.81, 5.07, 4.57, 5.05, 5.06, 4.92, 4.77, 4.85, 4.43, 5.43,\n",
       "       4.76, 4.58, 5.09, 5.02, 4.84, 4.96, 4.86, 5.43, 5.32, 5.32, 5.35,\n",
       "       5.41, 4.89, 4.94, 4.97, 5.21, 5.21, 4.55, 4.91, 4.86, 4.76, 5.21,\n",
       "       5.29, 5.16, 5.23, 4.61, 5.29, 5.34, 4.82, 4.98, 4.84, 4.55, 5.21,\n",
       "       4.91, 4.71, 4.89, 5.13, 4.63, 4.51, 5.1 , 4.77, 5.69, 4.89, 4.6 ,\n",
       "       4.66, 5.21, 5.61, 5.67, 5.34, 4.63, 4.96, 4.78, 4.76, 5.63, 4.47,\n",
       "       4.78, 4.94, 5.03, 5.16, 4.97, 5.1 , 5.25, 5.6 , 5.36, 5.13, 5.25,\n",
       "       5.08, 4.79, 4.91, 5.11, 4.84, 5.09, 5.26, 4.4 , 5.26, 5.07, 5.16,\n",
       "       4.77, 4.99, 4.84, 5.18, 5.15, 5.2 , 4.62, 4.81, 4.82, 5.31, 4.85,\n",
       "       5.05, 5.55, 5.56, 4.93, 5.14, 4.73, 5.21, 5.38, 4.79, 5.38, 4.79,\n",
       "       5.59, 5.16, 5.32, 5.19, 5.5 , 4.82, 5.17, 5.49, 5.02, 5.05, 5.4 ,\n",
       "       5.13, 4.64, 5.23, 5.09, 4.76, 4.37, 4.37, 4.84, 4.39, 4.63, 4.83,\n",
       "       5.49, 4.34, 5.12, 4.76, 4.57, 5.21, 4.65, 4.81, 4.91, 4.92, 5.25,\n",
       "       5.06, 4.8 , 4.39, 5.36, 5.21, 5.47, 4.78, 5.03, 4.33, 5.02, 4.92,\n",
       "       4.81, 4.76, 4.96, 5.19, 5.26, 5.37, 5.23, 5.16, 5.52, 4.79, 4.44,\n",
       "       5.05, 4.87, 5.24, 4.99, 4.7 , 4.7 , 5.36, 5.11, 5.48, 4.99, 5.17,\n",
       "       4.85, 5.31, 5.61, 5.42, 4.63, 5.15, 4.98, 5.12, 5.25, 4.63, 5.23,\n",
       "       4.95, 4.83, 5.27, 5.19, 4.95, 5.27, 5.02, 5.14, 5.61, 4.96, 4.88,\n",
       "       4.74, 5.64, 4.82, 4.59, 4.76, 5.14, 4.58, 5.18, 5.18, 5.23, 5.15,\n",
       "       5.3 , 4.09, 5.19, 5.36, 5.24, 4.44, 4.63, 5.33, 4.95, 4.6 , 5.12,\n",
       "       5.06, 5.38, 5.05, 4.45, 4.59, 5.1 , 5.07, 5.11, 5.28, 5.31, 5.07,\n",
       "       4.94, 4.55, 5.07, 5.12, 4.98, 5.7 , 5.1 , 5.05, 4.49, 5.  , 5.18,\n",
       "       4.77, 4.26, 5.22, 5.32, 4.73, 4.92, 4.8 , 4.9 , 4.88, 5.22, 5.12,\n",
       "       5.12, 5.11, 4.84, 4.78, 4.97, 4.57, 4.81, 5.59, 5.2 , 5.04, 4.66,\n",
       "       4.91, 4.77, 5.02, 5.17, 5.56, 4.87, 4.81, 5.29, 5.09, 4.57, 5.13,\n",
       "       5.26, 5.12, 4.6 , 5.08, 5.66, 4.16, 5.11, 4.95, 4.62, 4.27, 5.28,\n",
       "       4.59, 5.43, 5.02, 5.16, 5.42, 4.92, 4.37, 4.71, 5.25, 4.82, 4.73,\n",
       "       4.4 , 4.82, 5.35, 4.58, 5.22, 5.19, 5.18, 5.19, 4.9 , 4.93, 4.73,\n",
       "       5.02, 4.81, 4.67, 5.51, 4.73, 5.09, 5.06, 4.86, 5.1 , 5.46, 4.88,\n",
       "       5.4 , 5.02, 5.45, 5.18, 5.09, 4.43, 5.34, 4.2 , 4.6 , 5.19, 5.04,\n",
       "       5.38, 5.36, 4.98, 5.4 , 5.13, 4.62, 4.46, 5.07, 5.09, 4.91, 5.13,\n",
       "       5.21, 5.01, 5.4 , 4.79, 4.76, 4.7 , 5.49, 5.04, 5.26, 5.33, 5.12,\n",
       "       5.25, 4.91, 5.22, 5.62, 4.86, 4.95, 5.09, 4.57, 4.72, 4.93, 4.47,\n",
       "       4.91, 4.89, 5.07, 4.71, 4.78, 5.13, 5.28, 5.01, 5.28, 5.18, 5.17,\n",
       "       5.08, 5.03, 5.39, 4.5 , 5.43, 5.26, 4.4 , 5.3 , 5.12, 5.22, 4.47,\n",
       "       4.87, 5.35, 5.22, 5.54, 4.94, 4.76, 4.85, 5.13, 5.41, 5.2 , 5.51,\n",
       "       5.13, 5.03, 5.  , 5.38, 5.35, 5.3 , 5.3 , 5.1 , 4.54, 4.93, 4.3 ,\n",
       "       5.29, 5.12, 4.51, 5.14, 4.64, 5.27, 5.32, 5.06, 5.38, 5.5 , 5.05,\n",
       "       5.02, 5.22, 4.85, 4.78, 4.73, 4.9 , 4.73, 4.82, 4.47, 4.63, 4.96,\n",
       "       4.85, 5.15, 5.06, 5.14, 5.31, 5.12, 5.2 , 5.47, 4.92, 4.72, 4.98,\n",
       "       4.7 , 4.39, 5.36, 5.62, 4.83, 5.34, 5.  , 4.57, 4.94, 5.63, 5.3 ,\n",
       "       5.1 , 5.75, 5.29, 5.28, 5.19, 4.82, 5.46, 5.01, 5.52, 4.76, 5.36,\n",
       "       4.94, 5.47, 5.2 , 5.14, 4.57, 4.8 , 5.08, 4.75, 5.04, 4.67, 5.17,\n",
       "       5.3 , 4.78, 4.48, 4.5 , 4.94, 5.23, 4.94, 5.09, 5.05, 5.24, 4.53,\n",
       "       5.22, 5.34, 4.83, 4.9 , 5.13, 5.42, 5.21, 5.39, 4.92, 5.08, 5.06,\n",
       "       5.22, 5.42, 5.45, 4.91, 4.71, 5.14, 5.  , 5.54, 5.63, 4.99, 5.26,\n",
       "       4.73, 4.63, 5.01, 5.26, 4.91, 5.01, 5.19, 5.07, 5.6 , 5.01, 5.23,\n",
       "       5.01, 5.1 , 4.57, 5.46, 5.41, 4.86, 4.75, 4.85, 5.43, 5.73, 5.48,\n",
       "       5.46, 4.81, 4.38, 4.6 , 4.92, 5.23, 5.02, 5.07, 4.47, 5.85, 5.29,\n",
       "       4.68, 5.29, 6.02, 4.76, 5.38, 5.  , 5.19, 4.77, 4.99, 4.78, 5.26,\n",
       "       5.25, 4.81, 5.  , 4.78, 5.11, 5.28, 5.32, 4.96, 4.58, 5.39, 4.43,\n",
       "       4.94, 4.99, 4.59, 5.43, 4.75, 5.24, 4.79, 5.4 , 5.31, 5.05, 4.75,\n",
       "       4.78, 4.9 , 5.03, 4.34, 4.62, 4.48, 5.4 , 5.42, 5.04, 5.23, 5.36,\n",
       "       4.86, 5.41, 4.63, 5.  , 5.13, 4.87, 4.87, 5.26, 5.5 , 5.01, 4.93,\n",
       "       5.15, 5.09, 4.3 , 5.47, 5.71, 4.87, 5.28, 4.68, 5.12, 4.92])"
      ]
     },
     "execution_count": 24,
     "metadata": {},
     "output_type": "execute_result"
    }
   ],
   "source": [
    "import numpy as np\n",
    "\n",
    "# Cargar los datos del archivo CSV, omitiendo la fila de encabezado y reemplazando valores no numéricos por NaN\n",
    "array = np.genfromtxt(\"alcohol_cerveza.csv\", delimiter=',', skip_header=1, filling_values=np.nan)\n",
    "array\n"
   ]
  },
  {
   "cell_type": "code",
   "execution_count": 26,
   "metadata": {},
   "outputs": [
    {
     "data": {
      "text/plain": [
       "(5.01034, 0.31158992987579043)"
      ]
     },
     "execution_count": 26,
     "metadata": {},
     "output_type": "execute_result"
    }
   ],
   "source": [
    "# Filtrar valores no numéricos (NaN) y calcular las medidas solo sobre los valores numéricos\n",
    "numeric_values = array[~np.isnan(array)]\n",
    "media = np.mean(numeric_values)\n",
    "desviacion = np.std(numeric_values)\n",
    "media, desviacion"
   ]
  },
  {
   "cell_type": "code",
   "execution_count": 28,
   "metadata": {},
   "outputs": [
    {
     "data": {
      "text/plain": [
       "(4.075570210372629, 5.945109789627372)"
      ]
     },
     "execution_count": 28,
     "metadata": {},
     "output_type": "execute_result"
    }
   ],
   "source": [
    "# Calcular los límites de control\n",
    "lic = media - (3 * desviacion)\n",
    "lsc = media + (3 * desviacion)\n",
    "lic, lsc"
   ]
  },
  {
   "cell_type": "code",
   "execution_count": 29,
   "metadata": {},
   "outputs": [
    {
     "name": "stdout",
     "output_type": "stream",
     "text": [
      "Media: 5.01034\n",
      "Desviación estándar: 0.31158992987579043\n",
      "LIC: 4.075570210372629\n",
      "LSC: 5.945109789627372\n"
     ]
    }
   ],
   "source": [
    "# Imprimir los resultados\n",
    "print(\"Media:\", media)\n",
    "print(\"Desviación estándar:\", desviacion)\n",
    "print(\"LIC:\", lic)\n",
    "print(\"LSC:\", lsc)"
   ]
  },
  {
   "cell_type": "code",
   "execution_count": 30,
   "metadata": {},
   "outputs": [
    {
     "name": "stdout",
     "output_type": "stream",
     "text": [
      "Valores fuera de control: 2\n"
     ]
    }
   ],
   "source": [
    "# Filtrar valores fuera de los límites de control\n",
    "valores_fuera_control = np.logical_or(numeric_values < lic, numeric_values > lsc)\n",
    "cantidad_valores_fuera_control = np.count_nonzero(valores_fuera_control)\n",
    "\n",
    "print(\"Valores fuera de control:\", cantidad_valores_fuera_control)"
   ]
  }
 ],
 "metadata": {
  "kernelspec": {
   "display_name": "Python 3",
   "language": "python",
   "name": "python3"
  },
  "language_info": {
   "codemirror_mode": {
    "name": "ipython",
    "version": 3
   },
   "file_extension": ".py",
   "mimetype": "text/x-python",
   "name": "python",
   "nbconvert_exporter": "python",
   "pygments_lexer": "ipython3",
   "version": "3.11.0"
  },
  "orig_nbformat": 4
 },
 "nbformat": 4,
 "nbformat_minor": 2
}
